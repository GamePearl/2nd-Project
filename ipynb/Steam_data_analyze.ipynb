{
 "cells": [
  {
   "cell_type": "code",
   "execution_count": 1,
   "id": "b9368999",
   "metadata": {},
   "outputs": [],
   "source": [
    "import pandas as pd\n",
    "import seaborn as sns\n",
    "import matplotlib.pyplot as plt\n",
    "\n",
    "# matplotlib 시각화 결과를 jupyter notebook에서 바로 확인하기 위한 코드 작성 \n",
    "%matplotlib inline"
   ]
  },
  {
   "cell_type": "code",
   "execution_count": 2,
   "id": "12593fcc",
   "metadata": {},
   "outputs": [],
   "source": [
    "import matplotlib.font_manager as fm\n",
    "\n",
    "font_dirs = ['./NanumGothic.ttf', ]\n",
    "font_files = fm.findSystemFonts(fontpaths=font_dirs)\n",
    "\n",
    "for font_file in font_files:\n",
    "    fm.fontManager.addfont(font_file)"
   ]
  },
  {
   "cell_type": "code",
   "execution_count": 3,
   "id": "01cf403d",
   "metadata": {},
   "outputs": [
    {
     "name": "stdout",
     "output_type": "stream",
     "text": [
      "(27075, 18)\n"
     ]
    },
    {
     "data": {
      "text/html": [
       "<div>\n",
       "<style scoped>\n",
       "    .dataframe tbody tr th:only-of-type {\n",
       "        vertical-align: middle;\n",
       "    }\n",
       "\n",
       "    .dataframe tbody tr th {\n",
       "        vertical-align: top;\n",
       "    }\n",
       "\n",
       "    .dataframe thead th {\n",
       "        text-align: right;\n",
       "    }\n",
       "</style>\n",
       "<table border=\"1\" class=\"dataframe\">\n",
       "  <thead>\n",
       "    <tr style=\"text-align: right;\">\n",
       "      <th></th>\n",
       "      <th>appid</th>\n",
       "      <th>name</th>\n",
       "      <th>release_date</th>\n",
       "      <th>english</th>\n",
       "      <th>developer</th>\n",
       "      <th>publisher</th>\n",
       "      <th>platforms</th>\n",
       "      <th>required_age</th>\n",
       "      <th>categories</th>\n",
       "      <th>genres</th>\n",
       "      <th>steamspy_tags</th>\n",
       "      <th>achievements</th>\n",
       "      <th>positive_ratings</th>\n",
       "      <th>negative_ratings</th>\n",
       "      <th>average_playtime</th>\n",
       "      <th>median_playtime</th>\n",
       "      <th>owners</th>\n",
       "      <th>price</th>\n",
       "    </tr>\n",
       "  </thead>\n",
       "  <tbody>\n",
       "    <tr>\n",
       "      <th>0</th>\n",
       "      <td>10</td>\n",
       "      <td>Counter-Strike</td>\n",
       "      <td>2000-11-01</td>\n",
       "      <td>1</td>\n",
       "      <td>Valve</td>\n",
       "      <td>Valve</td>\n",
       "      <td>windows;mac;linux</td>\n",
       "      <td>0</td>\n",
       "      <td>Multi-player;Online Multi-Player;Local Multi-P...</td>\n",
       "      <td>Action</td>\n",
       "      <td>Action;FPS;Multiplayer</td>\n",
       "      <td>0</td>\n",
       "      <td>124534</td>\n",
       "      <td>3339</td>\n",
       "      <td>17612</td>\n",
       "      <td>317</td>\n",
       "      <td>10000000-20000000</td>\n",
       "      <td>7.19</td>\n",
       "    </tr>\n",
       "    <tr>\n",
       "      <th>1</th>\n",
       "      <td>20</td>\n",
       "      <td>Team Fortress Classic</td>\n",
       "      <td>1999-04-01</td>\n",
       "      <td>1</td>\n",
       "      <td>Valve</td>\n",
       "      <td>Valve</td>\n",
       "      <td>windows;mac;linux</td>\n",
       "      <td>0</td>\n",
       "      <td>Multi-player;Online Multi-Player;Local Multi-P...</td>\n",
       "      <td>Action</td>\n",
       "      <td>Action;FPS;Multiplayer</td>\n",
       "      <td>0</td>\n",
       "      <td>3318</td>\n",
       "      <td>633</td>\n",
       "      <td>277</td>\n",
       "      <td>62</td>\n",
       "      <td>5000000-10000000</td>\n",
       "      <td>3.99</td>\n",
       "    </tr>\n",
       "    <tr>\n",
       "      <th>2</th>\n",
       "      <td>30</td>\n",
       "      <td>Day of Defeat</td>\n",
       "      <td>2003-05-01</td>\n",
       "      <td>1</td>\n",
       "      <td>Valve</td>\n",
       "      <td>Valve</td>\n",
       "      <td>windows;mac;linux</td>\n",
       "      <td>0</td>\n",
       "      <td>Multi-player;Valve Anti-Cheat enabled</td>\n",
       "      <td>Action</td>\n",
       "      <td>FPS;World War II;Multiplayer</td>\n",
       "      <td>0</td>\n",
       "      <td>3416</td>\n",
       "      <td>398</td>\n",
       "      <td>187</td>\n",
       "      <td>34</td>\n",
       "      <td>5000000-10000000</td>\n",
       "      <td>3.99</td>\n",
       "    </tr>\n",
       "    <tr>\n",
       "      <th>3</th>\n",
       "      <td>40</td>\n",
       "      <td>Deathmatch Classic</td>\n",
       "      <td>2001-06-01</td>\n",
       "      <td>1</td>\n",
       "      <td>Valve</td>\n",
       "      <td>Valve</td>\n",
       "      <td>windows;mac;linux</td>\n",
       "      <td>0</td>\n",
       "      <td>Multi-player;Online Multi-Player;Local Multi-P...</td>\n",
       "      <td>Action</td>\n",
       "      <td>Action;FPS;Multiplayer</td>\n",
       "      <td>0</td>\n",
       "      <td>1273</td>\n",
       "      <td>267</td>\n",
       "      <td>258</td>\n",
       "      <td>184</td>\n",
       "      <td>5000000-10000000</td>\n",
       "      <td>3.99</td>\n",
       "    </tr>\n",
       "    <tr>\n",
       "      <th>4</th>\n",
       "      <td>50</td>\n",
       "      <td>Half-Life: Opposing Force</td>\n",
       "      <td>1999-11-01</td>\n",
       "      <td>1</td>\n",
       "      <td>Gearbox Software</td>\n",
       "      <td>Valve</td>\n",
       "      <td>windows;mac;linux</td>\n",
       "      <td>0</td>\n",
       "      <td>Single-player;Multi-player;Valve Anti-Cheat en...</td>\n",
       "      <td>Action</td>\n",
       "      <td>FPS;Action;Sci-fi</td>\n",
       "      <td>0</td>\n",
       "      <td>5250</td>\n",
       "      <td>288</td>\n",
       "      <td>624</td>\n",
       "      <td>415</td>\n",
       "      <td>5000000-10000000</td>\n",
       "      <td>3.99</td>\n",
       "    </tr>\n",
       "  </tbody>\n",
       "</table>\n",
       "</div>"
      ],
      "text/plain": [
       "   appid                       name release_date  english         developer  \\\n",
       "0     10             Counter-Strike   2000-11-01        1             Valve   \n",
       "1     20      Team Fortress Classic   1999-04-01        1             Valve   \n",
       "2     30              Day of Defeat   2003-05-01        1             Valve   \n",
       "3     40         Deathmatch Classic   2001-06-01        1             Valve   \n",
       "4     50  Half-Life: Opposing Force   1999-11-01        1  Gearbox Software   \n",
       "\n",
       "  publisher          platforms  required_age  \\\n",
       "0     Valve  windows;mac;linux             0   \n",
       "1     Valve  windows;mac;linux             0   \n",
       "2     Valve  windows;mac;linux             0   \n",
       "3     Valve  windows;mac;linux             0   \n",
       "4     Valve  windows;mac;linux             0   \n",
       "\n",
       "                                          categories  genres  \\\n",
       "0  Multi-player;Online Multi-Player;Local Multi-P...  Action   \n",
       "1  Multi-player;Online Multi-Player;Local Multi-P...  Action   \n",
       "2              Multi-player;Valve Anti-Cheat enabled  Action   \n",
       "3  Multi-player;Online Multi-Player;Local Multi-P...  Action   \n",
       "4  Single-player;Multi-player;Valve Anti-Cheat en...  Action   \n",
       "\n",
       "                  steamspy_tags  achievements  positive_ratings  \\\n",
       "0        Action;FPS;Multiplayer             0            124534   \n",
       "1        Action;FPS;Multiplayer             0              3318   \n",
       "2  FPS;World War II;Multiplayer             0              3416   \n",
       "3        Action;FPS;Multiplayer             0              1273   \n",
       "4             FPS;Action;Sci-fi             0              5250   \n",
       "\n",
       "   negative_ratings  average_playtime  median_playtime             owners  \\\n",
       "0              3339             17612              317  10000000-20000000   \n",
       "1               633               277               62   5000000-10000000   \n",
       "2               398               187               34   5000000-10000000   \n",
       "3               267               258              184   5000000-10000000   \n",
       "4               288               624              415   5000000-10000000   \n",
       "\n",
       "   price  \n",
       "0   7.19  \n",
       "1   3.99  \n",
       "2   3.99  \n",
       "3   3.99  \n",
       "4   3.99  "
      ]
     },
     "execution_count": 3,
     "metadata": {},
     "output_type": "execute_result"
    }
   ],
   "source": [
    "data = pd.read_csv(\"./dataset/steam.csv\")\n",
    "game = data\n",
    "# 데이터프레임의 크기를 확인합니다.\n",
    "print(game.shape)\n",
    "\n",
    "# 데이터프레임 상위 5개 값 확인\n",
    "game.head()"
   ]
  },
  {
   "cell_type": "code",
   "execution_count": 4,
   "id": "7d83bec9",
   "metadata": {},
   "outputs": [
    {
     "name": "stdout",
     "output_type": "stream",
     "text": [
      "<class 'pandas.core.frame.DataFrame'>\n",
      "RangeIndex: 27075 entries, 0 to 27074\n",
      "Data columns (total 18 columns):\n",
      " #   Column            Non-Null Count  Dtype  \n",
      "---  ------            --------------  -----  \n",
      " 0   appid             27075 non-null  int64  \n",
      " 1   name              27075 non-null  object \n",
      " 2   release_date      27075 non-null  object \n",
      " 3   english           27075 non-null  int64  \n",
      " 4   developer         27075 non-null  object \n",
      " 5   publisher         27075 non-null  object \n",
      " 6   platforms         27075 non-null  object \n",
      " 7   required_age      27075 non-null  int64  \n",
      " 8   categories        27075 non-null  object \n",
      " 9   genres            27075 non-null  object \n",
      " 10  steamspy_tags     27075 non-null  object \n",
      " 11  achievements      27075 non-null  int64  \n",
      " 12  positive_ratings  27075 non-null  int64  \n",
      " 13  negative_ratings  27075 non-null  int64  \n",
      " 14  average_playtime  27075 non-null  int64  \n",
      " 15  median_playtime   27075 non-null  int64  \n",
      " 16  owners            27075 non-null  object \n",
      " 17  price             27075 non-null  float64\n",
      "dtypes: float64(1), int64(8), object(9)\n",
      "memory usage: 3.7+ MB\n"
     ]
    }
   ],
   "source": [
    "game.info()"
   ]
  },
  {
   "cell_type": "code",
   "execution_count": 5,
   "id": "746221c5",
   "metadata": {},
   "outputs": [
    {
     "data": {
      "text/plain": [
       "appid               0\n",
       "name                0\n",
       "release_date        0\n",
       "english             0\n",
       "developer           0\n",
       "publisher           0\n",
       "platforms           0\n",
       "required_age        0\n",
       "categories          0\n",
       "genres              0\n",
       "steamspy_tags       0\n",
       "achievements        0\n",
       "positive_ratings    0\n",
       "negative_ratings    0\n",
       "average_playtime    0\n",
       "median_playtime     0\n",
       "owners              0\n",
       "price               0\n",
       "dtype: int64"
      ]
     },
     "execution_count": 5,
     "metadata": {},
     "output_type": "execute_result"
    }
   ],
   "source": [
    "# 컬럼별 결측치 한번 더 확인해보기\n",
    "game.isnull().sum()"
   ]
  },
  {
   "cell_type": "code",
   "execution_count": 6,
   "id": "f0824ecd",
   "metadata": {},
   "outputs": [
    {
     "data": {
      "text/html": [
       "<div>\n",
       "<style scoped>\n",
       "    .dataframe tbody tr th:only-of-type {\n",
       "        vertical-align: middle;\n",
       "    }\n",
       "\n",
       "    .dataframe tbody tr th {\n",
       "        vertical-align: top;\n",
       "    }\n",
       "\n",
       "    .dataframe thead th {\n",
       "        text-align: right;\n",
       "    }\n",
       "</style>\n",
       "<table border=\"1\" class=\"dataframe\">\n",
       "  <thead>\n",
       "    <tr style=\"text-align: right;\">\n",
       "      <th></th>\n",
       "      <th>name</th>\n",
       "      <th>release_date</th>\n",
       "      <th>developer</th>\n",
       "      <th>publisher</th>\n",
       "      <th>platforms</th>\n",
       "      <th>required_age</th>\n",
       "      <th>categories</th>\n",
       "      <th>genres</th>\n",
       "      <th>steamspy_tags</th>\n",
       "      <th>achievements</th>\n",
       "      <th>positive_ratings</th>\n",
       "      <th>negative_ratings</th>\n",
       "      <th>average_playtime</th>\n",
       "      <th>owners</th>\n",
       "      <th>price</th>\n",
       "    </tr>\n",
       "  </thead>\n",
       "  <tbody>\n",
       "    <tr>\n",
       "      <th>0</th>\n",
       "      <td>Counter-Strike</td>\n",
       "      <td>2000-11-01</td>\n",
       "      <td>Valve</td>\n",
       "      <td>Valve</td>\n",
       "      <td>windows;mac;linux</td>\n",
       "      <td>0</td>\n",
       "      <td>Multi-player;Online Multi-Player;Local Multi-P...</td>\n",
       "      <td>Action</td>\n",
       "      <td>Action;FPS;Multiplayer</td>\n",
       "      <td>0</td>\n",
       "      <td>124534</td>\n",
       "      <td>3339</td>\n",
       "      <td>17612</td>\n",
       "      <td>10000000-20000000</td>\n",
       "      <td>7.19</td>\n",
       "    </tr>\n",
       "    <tr>\n",
       "      <th>1</th>\n",
       "      <td>Team Fortress Classic</td>\n",
       "      <td>1999-04-01</td>\n",
       "      <td>Valve</td>\n",
       "      <td>Valve</td>\n",
       "      <td>windows;mac;linux</td>\n",
       "      <td>0</td>\n",
       "      <td>Multi-player;Online Multi-Player;Local Multi-P...</td>\n",
       "      <td>Action</td>\n",
       "      <td>Action;FPS;Multiplayer</td>\n",
       "      <td>0</td>\n",
       "      <td>3318</td>\n",
       "      <td>633</td>\n",
       "      <td>277</td>\n",
       "      <td>5000000-10000000</td>\n",
       "      <td>3.99</td>\n",
       "    </tr>\n",
       "    <tr>\n",
       "      <th>2</th>\n",
       "      <td>Day of Defeat</td>\n",
       "      <td>2003-05-01</td>\n",
       "      <td>Valve</td>\n",
       "      <td>Valve</td>\n",
       "      <td>windows;mac;linux</td>\n",
       "      <td>0</td>\n",
       "      <td>Multi-player;Valve Anti-Cheat enabled</td>\n",
       "      <td>Action</td>\n",
       "      <td>FPS;World War II;Multiplayer</td>\n",
       "      <td>0</td>\n",
       "      <td>3416</td>\n",
       "      <td>398</td>\n",
       "      <td>187</td>\n",
       "      <td>5000000-10000000</td>\n",
       "      <td>3.99</td>\n",
       "    </tr>\n",
       "    <tr>\n",
       "      <th>3</th>\n",
       "      <td>Deathmatch Classic</td>\n",
       "      <td>2001-06-01</td>\n",
       "      <td>Valve</td>\n",
       "      <td>Valve</td>\n",
       "      <td>windows;mac;linux</td>\n",
       "      <td>0</td>\n",
       "      <td>Multi-player;Online Multi-Player;Local Multi-P...</td>\n",
       "      <td>Action</td>\n",
       "      <td>Action;FPS;Multiplayer</td>\n",
       "      <td>0</td>\n",
       "      <td>1273</td>\n",
       "      <td>267</td>\n",
       "      <td>258</td>\n",
       "      <td>5000000-10000000</td>\n",
       "      <td>3.99</td>\n",
       "    </tr>\n",
       "    <tr>\n",
       "      <th>4</th>\n",
       "      <td>Half-Life: Opposing Force</td>\n",
       "      <td>1999-11-01</td>\n",
       "      <td>Gearbox Software</td>\n",
       "      <td>Valve</td>\n",
       "      <td>windows;mac;linux</td>\n",
       "      <td>0</td>\n",
       "      <td>Single-player;Multi-player;Valve Anti-Cheat en...</td>\n",
       "      <td>Action</td>\n",
       "      <td>FPS;Action;Sci-fi</td>\n",
       "      <td>0</td>\n",
       "      <td>5250</td>\n",
       "      <td>288</td>\n",
       "      <td>624</td>\n",
       "      <td>5000000-10000000</td>\n",
       "      <td>3.99</td>\n",
       "    </tr>\n",
       "  </tbody>\n",
       "</table>\n",
       "</div>"
      ],
      "text/plain": [
       "                        name release_date         developer publisher  \\\n",
       "0             Counter-Strike   2000-11-01             Valve     Valve   \n",
       "1      Team Fortress Classic   1999-04-01             Valve     Valve   \n",
       "2              Day of Defeat   2003-05-01             Valve     Valve   \n",
       "3         Deathmatch Classic   2001-06-01             Valve     Valve   \n",
       "4  Half-Life: Opposing Force   1999-11-01  Gearbox Software     Valve   \n",
       "\n",
       "           platforms  required_age  \\\n",
       "0  windows;mac;linux             0   \n",
       "1  windows;mac;linux             0   \n",
       "2  windows;mac;linux             0   \n",
       "3  windows;mac;linux             0   \n",
       "4  windows;mac;linux             0   \n",
       "\n",
       "                                          categories  genres  \\\n",
       "0  Multi-player;Online Multi-Player;Local Multi-P...  Action   \n",
       "1  Multi-player;Online Multi-Player;Local Multi-P...  Action   \n",
       "2              Multi-player;Valve Anti-Cheat enabled  Action   \n",
       "3  Multi-player;Online Multi-Player;Local Multi-P...  Action   \n",
       "4  Single-player;Multi-player;Valve Anti-Cheat en...  Action   \n",
       "\n",
       "                  steamspy_tags  achievements  positive_ratings  \\\n",
       "0        Action;FPS;Multiplayer             0            124534   \n",
       "1        Action;FPS;Multiplayer             0              3318   \n",
       "2  FPS;World War II;Multiplayer             0              3416   \n",
       "3        Action;FPS;Multiplayer             0              1273   \n",
       "4             FPS;Action;Sci-fi             0              5250   \n",
       "\n",
       "   negative_ratings  average_playtime             owners  price  \n",
       "0              3339             17612  10000000-20000000   7.19  \n",
       "1               633               277   5000000-10000000   3.99  \n",
       "2               398               187   5000000-10000000   3.99  \n",
       "3               267               258   5000000-10000000   3.99  \n",
       "4               288               624   5000000-10000000   3.99  "
      ]
     },
     "execution_count": 6,
     "metadata": {},
     "output_type": "execute_result"
    }
   ],
   "source": [
    "# 필요없는 컬럼 삭제\n",
    "game = game.drop(['appid','english','median_playtime'],axis='columns') \n",
    "\n",
    "game.head()"
   ]
  },
  {
   "cell_type": "markdown",
   "id": "817f6a9a",
   "metadata": {},
   "source": [
    "## 🔹연도별 판매량\n",
    "\n",
    "#### - release_date 데이터 타입 변경 및 연도별 게임 발매 수 확인\n",
    "#### - 연도별 판매량으로 게임산업이 급격하게 발전해왔다는 인사이트 도출할 수 있음!!"
   ]
  },
  {
   "cell_type": "code",
   "execution_count": 7,
   "id": "5cdf2413",
   "metadata": {},
   "outputs": [
    {
     "data": {
      "text/plain": [
       "Text(0.5, 1.0, 'released by year')"
      ]
     },
     "execution_count": 7,
     "metadata": {},
     "output_type": "execute_result"
    },
    {
     "data": {
      "image/png": "[encoded data removed]",
      "text/plain": [
       "<Figure size 1296x720 with 1 Axes>"
      ]
     },
     "metadata": {
      "needs_background": "light"
     },
     "output_type": "display_data"
    }
   ],
   "source": [
    "game['release_date'] = pd.to_datetime(game['release_date'])\n",
    "\n",
    "game['yearly'] = game['release_date'].dt.year\n",
    "\n",
    "plt.figure(figsize=(18,10))\n",
    "\n",
    "plt.subplot()\n",
    "sns.countplot(data = game , y = \"yearly\")\n",
    "plt.title(\"released by year\")"
   ]
  },
  {
   "cell_type": "markdown",
   "id": "b7c5146b",
   "metadata": {},
   "source": [
    "## 🔹월별 판매량\n",
    "\n",
    "#### - 대체적으로 봄과 가을에 새로운 신작들이 많이 나온다는 인사이트를 도출할 수 있다."
   ]
  },
  {
   "cell_type": "code",
   "execution_count": 27,
   "id": "cd8b0925",
   "metadata": {},
   "outputs": [
    {
     "data": {
      "text/plain": [
       "[Text(0, 0, '1월'),\n",
       " Text(1, 0, '2월'),\n",
       " Text(2, 0, '3월'),\n",
       " Text(3, 0, '4월'),\n",
       " Text(4, 0, '5월'),\n",
       " Text(5, 0, '6월'),\n",
       " Text(6, 0, '7월'),\n",
       " Text(7, 0, '8월'),\n",
       " Text(8, 0, '9월'),\n",
       " Text(9, 0, '10월'),\n",
       " Text(10, 0, '11월'),\n",
       " Text(11, 0, '12월')]"
      ]
     },
     "execution_count": 27,
     "metadata": {},
     "output_type": "execute_result"
    },
    {
     "data": {
      "image/png": "[encoded data removed]",
      "text/plain": [
       "<Figure size 1296x720 with 1 Axes>"
      ]
     },
     "metadata": {},
     "output_type": "display_data"
    }
   ],
   "source": [
    "\n",
    "\n",
    "game['monthly'] = game['release_date'].dt.month\n",
    "\n",
    "months = []\n",
    "arr = game['monthly'].unique()\n",
    "arr.sort()\n",
    "for i in arr:\n",
    "    months.append(str(i) + \"월\")\n",
    "\n",
    "plt.figure(figsize=(18,10))\n",
    "\n",
    "plt.subplot()\n",
    "monthly_plot = sns.countplot(data = game , x = \"monthly\")\n",
    "plt.title(\"released by month\")\n",
    "\n",
    "monthly_plot.set_xticklabels(months)"
   ]
  },
  {
   "cell_type": "markdown",
   "id": "5edf8e9d",
   "metadata": {},
   "source": [
    "## 🔹게임 이용 연령(최소)별 게임 수\n",
    "\n",
    "#### - 전체이용가가 압도적으로 많음\n",
    "#### - 전체이용가를 제외하고 비교할 시에는 18세 이상의 게임이 가장 많이 존재한다.\n"
   ]
  },
  {
   "cell_type": "code",
   "execution_count": 9,
   "id": "bee56434",
   "metadata": {},
   "outputs": [
    {
     "name": "stdout",
     "output_type": "stream",
     "text": [
      "<class 'pandas.core.frame.DataFrame'>\n",
      "RangeIndex: 27075 entries, 0 to 27074\n",
      "Data columns (total 17 columns):\n",
      " #   Column            Non-Null Count  Dtype         \n",
      "---  ------            --------------  -----         \n",
      " 0   name              27075 non-null  object        \n",
      " 1   release_date      27075 non-null  datetime64[ns]\n",
      " 2   developer         27075 non-null  object        \n",
      " 3   publisher         27075 non-null  object        \n",
      " 4   platforms         27075 non-null  object        \n",
      " 5   required_age      27075 non-null  object        \n",
      " 6   categories        27075 non-null  object        \n",
      " 7   genres            27075 non-null  object        \n",
      " 8   steamspy_tags     27075 non-null  object        \n",
      " 9   achievements      27075 non-null  int64         \n",
      " 10  positive_ratings  27075 non-null  int64         \n",
      " 11  negative_ratings  27075 non-null  int64         \n",
      " 12  average_playtime  27075 non-null  int64         \n",
      " 13  owners            27075 non-null  object        \n",
      " 14  price             27075 non-null  float64       \n",
      " 15  yearly            27075 non-null  int64         \n",
      " 16  monthly           27075 non-null  int64         \n",
      "dtypes: datetime64[ns](1), float64(1), int64(6), object(9)\n",
      "memory usage: 3.5+ MB\n"
     ]
    }
   ],
   "source": [
    "game[\"required_age\"] = game[\"required_age\"].astype(str)\n",
    "game.info()"
   ]
  },
  {
   "cell_type": "code",
   "execution_count": 10,
   "id": "7c294a5f",
   "metadata": {},
   "outputs": [
    {
     "data": {
      "text/plain": [
       "전체이용가     26479\n",
       "18세 이상      308\n",
       "16세 이상      192\n",
       "12세 이상       73\n",
       "7세 이상        12\n",
       "3세 이상        11\n",
       "Name: required_age, dtype: int64"
      ]
     },
     "execution_count": 10,
     "metadata": {},
     "output_type": "execute_result"
    }
   ],
   "source": [
    "# 연령별 데이터 값 변경하기\n",
    "\n",
    "for i in game[\"required_age\"].unique():\n",
    "    if str(i) != \"0\":\n",
    "        game = game.replace({\"required_age\": i }, str(i) + \"세 이상\")\n",
    "    else:\n",
    "        game = game.replace({\"required_age\": i }, \"전체이용가\")\n",
    "\n",
    "game[\"required_age\"].unique()\n",
    "game[\"required_age\"].value_counts()"
   ]
  },
  {
   "cell_type": "code",
   "execution_count": 26,
   "id": "571b37b7",
   "metadata": {},
   "outputs": [
    {
     "data": {
      "text/plain": [
       "Text(0.5, 1.0, '게임 이용 연령별 게임 수')"
      ]
     },
     "execution_count": 26,
     "metadata": {},
     "output_type": "execute_result"
    },
    {
     "data": {
      "image/png": "[encoded data removed]",
      "text/plain": [
       "<Figure size 1296x720 with 1 Axes>"
      ]
     },
     "metadata": {},
     "output_type": "display_data"
    }
   ],
   "source": [
    "plt.figure(figsize=(18,10))\n",
    "\n",
    "plt.subplot()\n",
    "# 한글 출력을 위해서 폰트 옵션을 설정합니다.\n",
    "sns.set(font=\"NanumGothic\",\n",
    "        style='darkgrid')\n",
    "sns.countplot(data = game , x = \"required_age\", palette=\"Set2\", order = ['전체이용가', '3세 이상', '7세 이상', '12세 이상', '16세 이상', '18세 이상'])\n",
    "plt.title(\"게임 이용 연령별 게임 수\")\n"
   ]
  },
  {
   "cell_type": "code",
   "execution_count": 12,
   "id": "ab9a51c0",
   "metadata": {},
   "outputs": [
    {
     "name": "stdout",
     "output_type": "stream",
     "text": [
      "{'18세 이상': 308, '16세 이상': 192, '12세 이상': 73, '7세 이상': 12, '3세 이상': 11}\n"
     ]
    },
    {
     "data": {
      "text/plain": [
       "([<matplotlib.patches.Wedge at 0x23a27d90be0>,\n",
       "  <matplotlib.patches.Wedge at 0x23a27d9e100>,\n",
       "  <matplotlib.patches.Wedge at 0x23a27d9e580>,\n",
       "  <matplotlib.patches.Wedge at 0x23a27d9ea00>,\n",
       "  <matplotlib.patches.Wedge at 0x23a27d9ee80>],\n",
       " [Text(-0.06322427556017152, 1.1983332971172467, '18세 이상'),\n",
       "  Text(-0.4817449801048601, -0.9888992740131667, '16세 이상'),\n",
       "  Text(0.9715634122076278, -0.7043184904994838, '12세 이상'),\n",
       "  Text(1.131580817336484, -0.20499964350236044, '7세 이상'),\n",
       "  Text(1.2978153345105192, -0.0753349687021183, '3세 이상')])"
      ]
     },
     "execution_count": 12,
     "metadata": {},
     "output_type": "execute_result"
    },
    {
     "data": {
      "image/png": "[encoded data removed]",
      "text/plain": [
       "<Figure size 432x288 with 1 Axes>"
      ]
     },
     "metadata": {},
     "output_type": "display_data"
    }
   ],
   "source": [
    "# 전체 이용가 제외하고 barplot 그리기\n",
    "\n",
    "age_dict = dict(game.required_age.value_counts())\n",
    "age_dict.pop(\"전체이용가\")\n",
    "print(age_dict)\n",
    "labels = '18세 이상', '16세 이상', '12세 이상', '7세 이상', '3세 이상'\n",
    "explode = [0.1, 0, 0.1, 0.05, 0.2]\n",
    "plt.title('게임 이용 연령별 게임 수')\n",
    "plt.pie(age_dict.values(), explode=explode, labels = labels)"
   ]
  },
  {
   "cell_type": "markdown",
   "id": "f88e310b",
   "metadata": {},
   "source": [
    "## 🔹 운영체제별 이용 가능한 게임  수\n",
    "\n",
    "#### - windows에서는 대부분이 가능하다. => 따라서 컴퓨터를 추천한다면 windows 운영체제 type 추천하는 등"
   ]
  },
  {
   "cell_type": "code",
   "execution_count": 13,
   "id": "b6bc0c67",
   "metadata": {},
   "outputs": [
    {
     "data": {
      "text/plain": [
       "{'linux', 'mac', 'windows'}"
      ]
     },
     "execution_count": 13,
     "metadata": {},
     "output_type": "execute_result"
    }
   ],
   "source": [
    "platform_set = set()\n",
    "for i in game.platforms.str.split(';'):\n",
    "    platform_set.update(i)\n",
    "platform_set"
   ]
  },
  {
   "cell_type": "code",
   "execution_count": 14,
   "id": "b42270bf",
   "metadata": {},
   "outputs": [],
   "source": [
    "platform_sets = game.platforms.str.split(';').apply(set)\n",
    "dict = {}\n",
    "dict['windows'] = platform_sets.apply(lambda row: 'windows' in row)\n",
    "dict['linux'] = platform_sets.apply(lambda row: 'linux' in row)\n",
    "dict['mac'] = platform_sets.apply(lambda row: 'mac' in row)\n",
    "game = game.assign(**dict)"
   ]
  },
  {
   "cell_type": "code",
   "execution_count": 15,
   "id": "3f923334",
   "metadata": {},
   "outputs": [
    {
     "name": "stderr",
     "output_type": "stream",
     "text": [
      "<ipython-input-15-61c412da8fa1>:1: FutureWarning: Index.__and__ operating as a set operation is deprecated, in the future this will be a logical operation matching Series.__and__.  Use index.intersection(other) instead\n",
      "  platforms_count = game[game.columns & platform_set].sum()\n"
     ]
    },
    {
     "data": {
      "text/plain": [
       "windows    0.999815\n",
       "mac        0.297913\n",
       "linux      0.193352\n",
       "dtype: float64"
      ]
     },
     "execution_count": 15,
     "metadata": {},
     "output_type": "execute_result"
    }
   ],
   "source": [
    "platforms_count = game[game.columns & platform_set].sum()\n",
    "platforms_count = platforms_count.sort_values(ascending=False)\n",
    "platforms_count / len(game)"
   ]
  },
  {
   "cell_type": "code",
   "execution_count": 16,
   "id": "35501a55",
   "metadata": {},
   "outputs": [
    {
     "name": "stderr",
     "output_type": "stream",
     "text": [
      "<ipython-input-16-849643c5d89d>:7: UserWarning: FixedFormatter should only be used together with FixedLocator\n",
      "  platforms.set_yticklabels(['{:,.0%}'.format(y) for y in vals])\n"
     ]
    },
    {
     "data": {
      "text/plain": [
       "Text(0.5, 0, 'Platform')"
      ]
     },
     "execution_count": 16,
     "metadata": {},
     "output_type": "execute_result"
    },
    {
     "data": {
      "image/png": "[encoded data removed]",
      "text/plain": [
       "<Figure size 576x576 with 1 Axes>"
      ]
     },
     "metadata": {},
     "output_type": "display_data"
    }
   ],
   "source": [
    "plt.figure(figsize=(8,8))\n",
    "\n",
    "\n",
    "platforms = sns.barplot(x=platforms_count.index, y=platforms_count / len(game))\n",
    "\n",
    "vals = platforms.get_yticks()\n",
    "platforms.set_yticklabels(['{:,.0%}'.format(y) for y in vals])\n",
    "\n",
    "# plt.xlabel('Percents of games that support platform')\n",
    "plt.xlabel('Platform')"
   ]
  },
  {
   "cell_type": "markdown",
   "id": "675a7e1c",
   "metadata": {},
   "source": [
    "## 🔹 카테고리별 이용 가능한 게임  수\n",
    "\n",
    "#### - 분석이 더 필요함! 카테고리별 hue = 연도로 해서 분석해보기"
   ]
  },
  {
   "cell_type": "code",
   "execution_count": 17,
   "id": "787918a4",
   "metadata": {},
   "outputs": [
    {
     "data": {
      "text/plain": [
       "{'Captions available',\n",
       " 'Co-op',\n",
       " 'Commentary available',\n",
       " 'Cross-Platform Multiplayer',\n",
       " 'Full controller support',\n",
       " 'In-App Purchases',\n",
       " 'Includes Source SDK',\n",
       " 'Includes level editor',\n",
       " 'Local Co-op',\n",
       " 'Local Multi-Player',\n",
       " 'MMO',\n",
       " 'Mods',\n",
       " 'Mods (require HL2)',\n",
       " 'Multi-player',\n",
       " 'Online Co-op',\n",
       " 'Online Multi-Player',\n",
       " 'Partial Controller Support',\n",
       " 'Shared/Split Screen',\n",
       " 'Single-player',\n",
       " 'Stats',\n",
       " 'Steam Achievements',\n",
       " 'Steam Cloud',\n",
       " 'Steam Leaderboards',\n",
       " 'Steam Trading Cards',\n",
       " 'Steam Turn Notifications',\n",
       " 'Steam Workshop',\n",
       " 'SteamVR Collectibles',\n",
       " 'VR Support',\n",
       " 'Valve Anti-Cheat enabled'}"
      ]
     },
     "execution_count": 17,
     "metadata": {},
     "output_type": "execute_result"
    }
   ],
   "source": [
    "categories_set = set()\n",
    "for i in game.categories.str.split(';'):\n",
    "    categories_set.update(i)\n",
    "categories_set"
   ]
  },
  {
   "cell_type": "code",
   "execution_count": 18,
   "id": "776c78d4",
   "metadata": {},
   "outputs": [],
   "source": [
    "dict = {}\n",
    "category_set = game.categories.str.split(';').apply(set)\n",
    "for category in categories_set:\n",
    "    game[category] = category_set.apply(lambda row: category in row)\n",
    "game = game.assign(**dict)"
   ]
  },
  {
   "cell_type": "code",
   "execution_count": 19,
   "id": "376dd8bc",
   "metadata": {},
   "outputs": [
    {
     "name": "stderr",
     "output_type": "stream",
     "text": [
      "<ipython-input-19-a2531af6120d>:1: FutureWarning: Index.__and__ operating as a set operation is deprecated, in the future this will be a logical operation matching Series.__and__.  Use index.intersection(other) instead\n",
      "  category_count = game[game.columns & categories_set].sum()\n",
      "<ipython-input-19-a2531af6120d>:8: UserWarning: FixedFormatter should only be used together with FixedLocator\n",
      "  g.set_xticklabels(['{:,.0%}'.format(x) for x in vals])\n"
     ]
    },
    {
     "data": {
      "text/plain": [
       "Text(0.5, 1.0, 'Percentage of categories')"
      ]
     },
     "execution_count": 19,
     "metadata": {},
     "output_type": "execute_result"
    },
    {
     "data": {
      "image/png": "[encoded data removed]",
      "text/plain": [
       "<Figure size 720x576 with 1 Axes>"
      ]
     },
     "metadata": {},
     "output_type": "display_data"
    }
   ],
   "source": [
    "category_count = game[game.columns & categories_set].sum()\n",
    "category_count = category_count.sort_values(ascending=False)\n",
    "\n",
    "plt.figure(figsize=(10,8))\n",
    "g = sns.barplot(y=category_count.index, x=category_count/len(game))\n",
    "\n",
    "vals = g.get_xticks()\n",
    "g.set_xticklabels(['{:,.0%}'.format(x) for x in vals])\n",
    "\n",
    "g.set_title(\"Percentage of categories\")"
   ]
  },
  {
   "cell_type": "markdown",
   "id": "8d00ef90",
   "metadata": {},
   "source": [
    "## 🔹 장르별 이용 가능한 게임  수\n",
    "\n",
    "#### - Indie, Action, Casual 순으로 분포한다.\n",
    "#### - 연도가 지남에 따라 어떻게 변화했는지 분석 좀 더 필요!"
   ]
  },
  {
   "cell_type": "code",
   "execution_count": 20,
   "id": "575ae3c7",
   "metadata": {},
   "outputs": [
    {
     "data": {
      "text/plain": [
       "{'Accounting',\n",
       " 'Action',\n",
       " 'Adventure',\n",
       " 'Animation & Modeling',\n",
       " 'Audio Production',\n",
       " 'Casual',\n",
       " 'Design & Illustration',\n",
       " 'Documentary',\n",
       " 'Early Access',\n",
       " 'Education',\n",
       " 'Free to Play',\n",
       " 'Game Development',\n",
       " 'Gore',\n",
       " 'Indie',\n",
       " 'Massively Multiplayer',\n",
       " 'Nudity',\n",
       " 'Photo Editing',\n",
       " 'RPG',\n",
       " 'Racing',\n",
       " 'Sexual Content',\n",
       " 'Simulation',\n",
       " 'Software Training',\n",
       " 'Sports',\n",
       " 'Strategy',\n",
       " 'Tutorial',\n",
       " 'Utilities',\n",
       " 'Video Production',\n",
       " 'Violent',\n",
       " 'Web Publishing'}"
      ]
     },
     "execution_count": 20,
     "metadata": {},
     "output_type": "execute_result"
    }
   ],
   "source": [
    "genres_set = set()\n",
    "for i in game.genres.str.split(';'):\n",
    "    genres_set.update(i)\n",
    "genres_set"
   ]
  },
  {
   "cell_type": "code",
   "execution_count": 21,
   "id": "9ae22091",
   "metadata": {},
   "outputs": [],
   "source": [
    "dict = {}\n",
    "genre_sets = game.genres.str.split(';').apply(set)\n",
    "for genre in genres_set:\n",
    "    dict[genre] = genre_sets.apply(lambda row: genre in row)\n",
    "game = game.assign(**dict)"
   ]
  },
  {
   "cell_type": "code",
   "execution_count": 22,
   "id": "223c1ab4",
   "metadata": {},
   "outputs": [
    {
     "name": "stderr",
     "output_type": "stream",
     "text": [
      "<ipython-input-22-c8c84bc1b4af>:8: UserWarning: FixedFormatter should only be used together with FixedLocator\n",
      "  g.set_xticklabels(['{:,.0%}'.format(x) for x in vals])\n"
     ]
    },
    {
     "data": {
      "text/plain": [
       "Text(0.5, 1.0, 'Percentage of genres')"
      ]
     },
     "execution_count": 22,
     "metadata": {},
     "output_type": "execute_result"
    },
    {
     "data": {
      "image/png": "[encoded data removed]",
      "text/plain": [
       "<Figure size 720x576 with 1 Axes>"
      ]
     },
     "metadata": {},
     "output_type": "display_data"
    }
   ],
   "source": [
    "genres_count = game[genres_set].sum()\n",
    "genres_count = genres_count.sort_values(ascending=False)\n",
    "\n",
    "plt.figure(figsize=(10,8))\n",
    "g = sns.barplot(y=genres_count.index, x=genres_count/len(game))\n",
    "\n",
    "vals = g.get_xticks()\n",
    "g.set_xticklabels(['{:,.0%}'.format(x) for x in vals])\n",
    "g.set_title(\"Percentage of genres\")"
   ]
  },
  {
   "cell_type": "markdown",
   "id": "a461d1d9",
   "metadata": {},
   "source": [
    "## 🔹 게임 가격 분포\n",
    "\n",
    "#### - 대부분이 유료 게임입니다. 그래도 2560개의 무료게임도 존재한다."
   ]
  },
  {
   "cell_type": "code",
   "execution_count": 23,
   "id": "d046ba2e",
   "metadata": {},
   "outputs": [
    {
     "name": "stdout",
     "output_type": "stream",
     "text": [
      "2560 24515\n"
     ]
    },
    {
     "data": {
      "text/plain": [
       "([<matplotlib.patches.Wedge at 0x23a28fddc70>,\n",
       "  <matplotlib.patches.Wedge at 0x23a29ef13d0>],\n",
       " [Text(1.1474469082530507, 0.35123438433689097, '무료 게임'),\n",
       "  Text(-1.0518263250291653, -0.32196487692858844, '유료 게임')],\n",
       " [Text(0.6693440298142797, 0.20488672419651974, '9.5%'),\n",
       "  Text(-0.5737234500159082, -0.17561720559741184, '90.5%')])"
      ]
     },
     "execution_count": 23,
     "metadata": {},
     "output_type": "execute_result"
    },
    {
     "data": {
      "image/png": "[encoded data removed]",
      "text/plain": [
       "<Figure size 432x288 with 1 Axes>"
      ]
     },
     "metadata": {},
     "output_type": "display_data"
    }
   ],
   "source": [
    "free, not_free = game[game['price'] == 0].shape[0], game[game['price'] != 0].shape[0]\n",
    "\n",
    "print(free, not_free)\n",
    "labels = '무료 게임','유료 게임'\n",
    "explode = [0.1, 0]\n",
    "plt.title('게임 가격별 게임 수')\n",
    "plt.pie([free, not_free], explode=explode, labels = labels,autopct='%1.1f%%')"
   ]
  },
  {
   "cell_type": "markdown",
   "id": "71994e4d",
   "metadata": {},
   "source": [
    "## 🔹 리뷰가 백만개 이상 Top 5\n",
    "\n",
    "#### - 특징을 보면 장르가 모두 Action, 운영체제는 windows, tag => survival, 대부분 전체이용가"
   ]
  },
  {
   "cell_type": "code",
   "execution_count": 24,
   "id": "882fc9ca",
   "metadata": {},
   "outputs": [],
   "source": [
    "game = game.assign(**{'overall_reviews':game.positive_ratings + game.negative_ratings})\n",
    "game = game.assign(**{'positive_rate':game.positive_ratings / game.overall_reviews})"
   ]
  },
  {
   "cell_type": "code",
   "execution_count": 25,
   "id": "4e46f07d",
   "metadata": {},
   "outputs": [
    {
     "data": {
      "text/html": [
       "<div>\n",
       "<style scoped>\n",
       "    .dataframe tbody tr th:only-of-type {\n",
       "        vertical-align: middle;\n",
       "    }\n",
       "\n",
       "    .dataframe tbody tr th {\n",
       "        vertical-align: top;\n",
       "    }\n",
       "\n",
       "    .dataframe thead th {\n",
       "        text-align: right;\n",
       "    }\n",
       "</style>\n",
       "<table border=\"1\" class=\"dataframe\">\n",
       "  <thead>\n",
       "    <tr style=\"text-align: right;\">\n",
       "      <th></th>\n",
       "      <th>name</th>\n",
       "      <th>release_date</th>\n",
       "      <th>developer</th>\n",
       "      <th>publisher</th>\n",
       "      <th>platforms</th>\n",
       "      <th>required_age</th>\n",
       "      <th>categories</th>\n",
       "      <th>genres</th>\n",
       "      <th>steamspy_tags</th>\n",
       "      <th>achievements</th>\n",
       "      <th>...</th>\n",
       "      <th>Nudity</th>\n",
       "      <th>RPG</th>\n",
       "      <th>Indie</th>\n",
       "      <th>Sexual Content</th>\n",
       "      <th>Accounting</th>\n",
       "      <th>Early Access</th>\n",
       "      <th>Racing</th>\n",
       "      <th>Gore</th>\n",
       "      <th>overall_reviews</th>\n",
       "      <th>positive_rate</th>\n",
       "    </tr>\n",
       "  </thead>\n",
       "  <tbody>\n",
       "    <tr>\n",
       "      <th>12836</th>\n",
       "      <td>PLAYERUNKNOWN'S BATTLEGROUNDS</td>\n",
       "      <td>2017-12-21</td>\n",
       "      <td>PUBG Corporation</td>\n",
       "      <td>PUBG Corporation</td>\n",
       "      <td>windows</td>\n",
       "      <td>전체이용가</td>\n",
       "      <td>Multi-player;Online Multi-Player;Stats</td>\n",
       "      <td>Action;Adventure;Massively Multiplayer</td>\n",
       "      <td>Survival;Shooter;Multiplayer</td>\n",
       "      <td>37</td>\n",
       "      <td>...</td>\n",
       "      <td>False</td>\n",
       "      <td>False</td>\n",
       "      <td>False</td>\n",
       "      <td>False</td>\n",
       "      <td>False</td>\n",
       "      <td>False</td>\n",
       "      <td>False</td>\n",
       "      <td>False</td>\n",
       "      <td>983260</td>\n",
       "      <td>0.504632</td>\n",
       "    </tr>\n",
       "    <tr>\n",
       "      <th>2563</th>\n",
       "      <td>No Man's Sky</td>\n",
       "      <td>2016-08-12</td>\n",
       "      <td>Hello Games</td>\n",
       "      <td>Hello Games</td>\n",
       "      <td>windows</td>\n",
       "      <td>전체이용가</td>\n",
       "      <td>Single-player;Multi-player;Online Multi-Player...</td>\n",
       "      <td>Action;Adventure</td>\n",
       "      <td>Open World;Space;Exploration</td>\n",
       "      <td>27</td>\n",
       "      <td>...</td>\n",
       "      <td>False</td>\n",
       "      <td>False</td>\n",
       "      <td>False</td>\n",
       "      <td>False</td>\n",
       "      <td>False</td>\n",
       "      <td>False</td>\n",
       "      <td>False</td>\n",
       "      <td>False</td>\n",
       "      <td>119932</td>\n",
       "      <td>0.529000</td>\n",
       "    </tr>\n",
       "    <tr>\n",
       "      <th>7809</th>\n",
       "      <td>Z1 Battle Royale</td>\n",
       "      <td>2018-02-28</td>\n",
       "      <td>NantG</td>\n",
       "      <td>Daybreak Game Company</td>\n",
       "      <td>windows</td>\n",
       "      <td>전체이용가</td>\n",
       "      <td>Multi-player;Online Multi-Player;In-App Purchases</td>\n",
       "      <td>Action;Adventure;Free to Play;Massively Multip...</td>\n",
       "      <td>Survival;Massively Multiplayer;Multiplayer</td>\n",
       "      <td>0</td>\n",
       "      <td>...</td>\n",
       "      <td>False</td>\n",
       "      <td>False</td>\n",
       "      <td>False</td>\n",
       "      <td>False</td>\n",
       "      <td>False</td>\n",
       "      <td>False</td>\n",
       "      <td>False</td>\n",
       "      <td>False</td>\n",
       "      <td>203098</td>\n",
       "      <td>0.548671</td>\n",
       "    </tr>\n",
       "    <tr>\n",
       "      <th>1506</th>\n",
       "      <td>DayZ</td>\n",
       "      <td>2018-12-13</td>\n",
       "      <td>Bohemia Interactive</td>\n",
       "      <td>Bohemia Interactive</td>\n",
       "      <td>windows</td>\n",
       "      <td>18세 이상</td>\n",
       "      <td>Multi-player;Online Multi-Player;Steam Worksho...</td>\n",
       "      <td>Action;Adventure;Massively Multiplayer</td>\n",
       "      <td>Survival;Zombies;Open World</td>\n",
       "      <td>0</td>\n",
       "      <td>...</td>\n",
       "      <td>False</td>\n",
       "      <td>False</td>\n",
       "      <td>False</td>\n",
       "      <td>False</td>\n",
       "      <td>False</td>\n",
       "      <td>False</td>\n",
       "      <td>False</td>\n",
       "      <td>False</td>\n",
       "      <td>195604</td>\n",
       "      <td>0.605484</td>\n",
       "    </tr>\n",
       "    <tr>\n",
       "      <th>1607</th>\n",
       "      <td>Heroes &amp; Generals</td>\n",
       "      <td>2016-10-18</td>\n",
       "      <td>RETO MOTO</td>\n",
       "      <td>RETO MOTO</td>\n",
       "      <td>windows</td>\n",
       "      <td>전체이용가</td>\n",
       "      <td>Multi-player;Online Multi-Player;MMO;Online Co...</td>\n",
       "      <td>Action;Free to Play;Indie;Massively Multiplayer</td>\n",
       "      <td>Free to Play;World War II;Multiplayer</td>\n",
       "      <td>0</td>\n",
       "      <td>...</td>\n",
       "      <td>False</td>\n",
       "      <td>False</td>\n",
       "      <td>True</td>\n",
       "      <td>False</td>\n",
       "      <td>False</td>\n",
       "      <td>False</td>\n",
       "      <td>False</td>\n",
       "      <td>False</td>\n",
       "      <td>100272</td>\n",
       "      <td>0.656774</td>\n",
       "    </tr>\n",
       "  </tbody>\n",
       "</table>\n",
       "<p>5 rows × 80 columns</p>\n",
       "</div>"
      ],
      "text/plain": [
       "                                name release_date            developer  \\\n",
       "12836  PLAYERUNKNOWN'S BATTLEGROUNDS   2017-12-21     PUBG Corporation   \n",
       "2563                    No Man's Sky   2016-08-12          Hello Games   \n",
       "7809                Z1 Battle Royale   2018-02-28                NantG   \n",
       "1506                            DayZ   2018-12-13  Bohemia Interactive   \n",
       "1607               Heroes & Generals   2016-10-18            RETO MOTO   \n",
       "\n",
       "                   publisher platforms required_age  \\\n",
       "12836       PUBG Corporation   windows        전체이용가   \n",
       "2563             Hello Games   windows        전체이용가   \n",
       "7809   Daybreak Game Company   windows        전체이용가   \n",
       "1506     Bohemia Interactive   windows       18세 이상   \n",
       "1607               RETO MOTO   windows        전체이용가   \n",
       "\n",
       "                                              categories  \\\n",
       "12836             Multi-player;Online Multi-Player;Stats   \n",
       "2563   Single-player;Multi-player;Online Multi-Player...   \n",
       "7809   Multi-player;Online Multi-Player;In-App Purchases   \n",
       "1506   Multi-player;Online Multi-Player;Steam Worksho...   \n",
       "1607   Multi-player;Online Multi-Player;MMO;Online Co...   \n",
       "\n",
       "                                                  genres  \\\n",
       "12836             Action;Adventure;Massively Multiplayer   \n",
       "2563                                    Action;Adventure   \n",
       "7809   Action;Adventure;Free to Play;Massively Multip...   \n",
       "1506              Action;Adventure;Massively Multiplayer   \n",
       "1607     Action;Free to Play;Indie;Massively Multiplayer   \n",
       "\n",
       "                                    steamspy_tags  achievements  ...  Nudity  \\\n",
       "12836                Survival;Shooter;Multiplayer            37  ...   False   \n",
       "2563                 Open World;Space;Exploration            27  ...   False   \n",
       "7809   Survival;Massively Multiplayer;Multiplayer             0  ...   False   \n",
       "1506                  Survival;Zombies;Open World             0  ...   False   \n",
       "1607        Free to Play;World War II;Multiplayer             0  ...   False   \n",
       "\n",
       "         RPG  Indie Sexual Content  Accounting  Early Access  Racing   Gore  \\\n",
       "12836  False  False          False       False         False   False  False   \n",
       "2563   False  False          False       False         False   False  False   \n",
       "7809   False  False          False       False         False   False  False   \n",
       "1506   False  False          False       False         False   False  False   \n",
       "1607   False   True          False       False         False   False  False   \n",
       "\n",
       "       overall_reviews  positive_rate  \n",
       "12836           983260       0.504632  \n",
       "2563            119932       0.529000  \n",
       "7809            203098       0.548671  \n",
       "1506            195604       0.605484  \n",
       "1607            100272       0.656774  \n",
       "\n",
       "[5 rows x 80 columns]"
      ]
     },
     "execution_count": 25,
     "metadata": {},
     "output_type": "execute_result"
    }
   ],
   "source": [
    "a = game[game[\"overall_reviews\"] > 100000].sort_values(\"positive_rate\")\n",
    "a.head()"
   ]
  },
  {
   "cell_type": "code",
   "execution_count": null,
   "id": "d21e9ea5",
   "metadata": {},
   "outputs": [],
   "source": []
  }
 ],
 "metadata": {
  "kernelspec": {
   "display_name": "Python 3",
   "language": "python",
   "name": "python3"
  },
  "language_info": {
   "codemirror_mode": {
    "name": "ipython",
    "version": 3
   },
   "file_extension": ".py",
   "mimetype": "text/x-python",
   "name": "python",
   "nbconvert_exporter": "python",
   "pygments_lexer": "ipython3",
   "version": "3.8.8"
  }
 },
 "nbformat": 4,
 "nbformat_minor": 5
}
